{
 "cells": [
  {
   "cell_type": "code",
   "execution_count": 1,
   "id": "d49fb15f-aff6-42a8-82d4-5e261e8e6d27",
   "metadata": {},
   "outputs": [
    {
     "name": "stdout",
     "output_type": "stream",
     "text": [
      "Dataset generated and saved to 'hearing_age_dataset.csv'\n"
     ]
    }
   ],
   "source": [
    "import numpy as np\n",
    "import pandas as pd\n",
    "\n",
    "# Function to simulate hearing ability (based on general trends in hearing loss with age)\n",
    "def hearing_threshold_by_age(frequency, age):\n",
    "    \"\"\"\n",
    "    Simulate the hearing threshold at a given frequency and age.\n",
    "    This function increases the dB threshold (i.e., hearing worsens) with age,\n",
    "    especially at higher frequencies.\n",
    "    \"\"\"\n",
    "    if frequency < 1000:  # Lower frequencies are less affected by age\n",
    "        base_threshold = -35\n",
    "        age_penalty = (age / 100) * 5  # Small increase in dB threshold with age\n",
    "    else:  # Higher frequencies are more affected by age\n",
    "        base_threshold = -35 + (frequency - 12000) / 1000  # Base threshold increases with frequency\n",
    "        age_penalty = (age / 100) * 20  # Larger increase in dB threshold with age\n",
    "    \n",
    "    # Simulate hearing threshold by adding a penalty based on age\n",
    "    threshold = base_threshold + age_penalty\n",
    "    return np.clip(threshold, -45, 0)  # Limit threshold between -45 dB and 0 dB\n",
    "\n",
    "# Frequency ranges: 20Hz to 50Hz and 12000Hz to 18000Hz\n",
    "low_freq_range = np.arange(20, 51)  # 20Hz to 50Hz\n",
    "high_freq_range = np.arange(12000, 18001)  # 12000Hz to 18000Hz\n",
    "all_frequencies = np.concatenate([low_freq_range, high_freq_range])\n",
    "\n",
    "# Generate synthetic data for people aged 10 to 80\n",
    "ages = np.arange(10, 81)  # Age from 10 to 80 years\n",
    "dataset = []\n",
    "\n",
    "for age in ages:\n",
    "    for freq in all_frequencies:\n",
    "        hearing_threshold = hearing_threshold_by_age(freq, age)\n",
    "        dataset.append([age, freq, hearing_threshold])\n",
    "\n",
    "# Convert to DataFrame for analysis\n",
    "df = pd.DataFrame(dataset, columns=[\"Age\", \"Frequency\", \"Hearing_Threshold_dB\"])\n",
    "\n",
    "# Save to CSV for model training\n",
    "df.to_csv(\"hearing_age_dataset.csv\", index=False)\n",
    "print(\"Dataset generated and saved to 'hearing_age_dataset.csv'\")\n"
   ]
  },
  {
   "cell_type": "code",
   "execution_count": null,
   "id": "111a33ef-9b82-41bd-9505-6d7ebc392515",
   "metadata": {},
   "outputs": [],
   "source": []
  }
 ],
 "metadata": {
  "kernelspec": {
   "display_name": "Python 3 (ipykernel)",
   "language": "python",
   "name": "python3"
  },
  "language_info": {
   "codemirror_mode": {
    "name": "ipython",
    "version": 3
   },
   "file_extension": ".py",
   "mimetype": "text/x-python",
   "name": "python",
   "nbconvert_exporter": "python",
   "pygments_lexer": "ipython3",
   "version": "3.8.10"
  }
 },
 "nbformat": 4,
 "nbformat_minor": 5
}
